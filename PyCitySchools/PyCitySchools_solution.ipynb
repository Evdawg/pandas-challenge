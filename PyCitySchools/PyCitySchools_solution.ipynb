{
 "cells": [
  {
   "cell_type": "markdown",
   "metadata": {},
   "source": [
    "# (Analysis will go here)\n",
    "- note 1\n",
    "- note 2\n",
    "- note 3"
   ]
  },
  {
   "cell_type": "code",
   "execution_count": 39,
   "metadata": {},
   "outputs": [
    {
     "data": {
      "text/html": [
       "<div>\n",
       "<style scoped>\n",
       "    .dataframe tbody tr th:only-of-type {\n",
       "        vertical-align: middle;\n",
       "    }\n",
       "\n",
       "    .dataframe tbody tr th {\n",
       "        vertical-align: top;\n",
       "    }\n",
       "\n",
       "    .dataframe thead th {\n",
       "        text-align: right;\n",
       "    }\n",
       "</style>\n",
       "<table border=\"1\" class=\"dataframe\">\n",
       "  <thead>\n",
       "    <tr style=\"text-align: right;\">\n",
       "      <th></th>\n",
       "      <th>Student ID</th>\n",
       "      <th>student_name</th>\n",
       "      <th>gender</th>\n",
       "      <th>grade</th>\n",
       "      <th>school_name</th>\n",
       "      <th>reading_score</th>\n",
       "      <th>math_score</th>\n",
       "      <th>School ID</th>\n",
       "      <th>type</th>\n",
       "      <th>size</th>\n",
       "      <th>budget</th>\n",
       "    </tr>\n",
       "  </thead>\n",
       "  <tbody>\n",
       "    <tr>\n",
       "      <th>0</th>\n",
       "      <td>0</td>\n",
       "      <td>Paul Bradley</td>\n",
       "      <td>M</td>\n",
       "      <td>9th</td>\n",
       "      <td>Huang High School</td>\n",
       "      <td>66</td>\n",
       "      <td>79</td>\n",
       "      <td>0</td>\n",
       "      <td>District</td>\n",
       "      <td>2917</td>\n",
       "      <td>1910635</td>\n",
       "    </tr>\n",
       "    <tr>\n",
       "      <th>1</th>\n",
       "      <td>1</td>\n",
       "      <td>Victor Smith</td>\n",
       "      <td>M</td>\n",
       "      <td>12th</td>\n",
       "      <td>Huang High School</td>\n",
       "      <td>94</td>\n",
       "      <td>61</td>\n",
       "      <td>0</td>\n",
       "      <td>District</td>\n",
       "      <td>2917</td>\n",
       "      <td>1910635</td>\n",
       "    </tr>\n",
       "    <tr>\n",
       "      <th>2</th>\n",
       "      <td>2</td>\n",
       "      <td>Kevin Rodriguez</td>\n",
       "      <td>M</td>\n",
       "      <td>12th</td>\n",
       "      <td>Huang High School</td>\n",
       "      <td>90</td>\n",
       "      <td>60</td>\n",
       "      <td>0</td>\n",
       "      <td>District</td>\n",
       "      <td>2917</td>\n",
       "      <td>1910635</td>\n",
       "    </tr>\n",
       "    <tr>\n",
       "      <th>3</th>\n",
       "      <td>3</td>\n",
       "      <td>Dr. Richard Scott</td>\n",
       "      <td>M</td>\n",
       "      <td>12th</td>\n",
       "      <td>Huang High School</td>\n",
       "      <td>67</td>\n",
       "      <td>58</td>\n",
       "      <td>0</td>\n",
       "      <td>District</td>\n",
       "      <td>2917</td>\n",
       "      <td>1910635</td>\n",
       "    </tr>\n",
       "    <tr>\n",
       "      <th>4</th>\n",
       "      <td>4</td>\n",
       "      <td>Bonnie Ray</td>\n",
       "      <td>F</td>\n",
       "      <td>9th</td>\n",
       "      <td>Huang High School</td>\n",
       "      <td>97</td>\n",
       "      <td>84</td>\n",
       "      <td>0</td>\n",
       "      <td>District</td>\n",
       "      <td>2917</td>\n",
       "      <td>1910635</td>\n",
       "    </tr>\n",
       "  </tbody>\n",
       "</table>\n",
       "</div>"
      ],
      "text/plain": [
       "   Student ID       student_name gender grade        school_name  \\\n",
       "0           0       Paul Bradley      M   9th  Huang High School   \n",
       "1           1       Victor Smith      M  12th  Huang High School   \n",
       "2           2    Kevin Rodriguez      M  12th  Huang High School   \n",
       "3           3  Dr. Richard Scott      M  12th  Huang High School   \n",
       "4           4         Bonnie Ray      F   9th  Huang High School   \n",
       "\n",
       "   reading_score  math_score  School ID      type  size   budget  \n",
       "0             66          79          0  District  2917  1910635  \n",
       "1             94          61          0  District  2917  1910635  \n",
       "2             90          60          0  District  2917  1910635  \n",
       "3             67          58          0  District  2917  1910635  \n",
       "4             97          84          0  District  2917  1910635  "
      ]
     },
     "execution_count": 39,
     "metadata": {},
     "output_type": "execute_result"
    }
   ],
   "source": [
    "# Dependencies and Setup\n",
    "import pandas as pd\n",
    "from pathlib import Path\n",
    "\n",
    "# Load csv files\n",
    "school_data_to_load = Path(\"Resources/schools_complete.csv\")\n",
    "student_data_to_load = Path(\"Resources/students_complete.csv\")\n",
    "\n",
    "# Read csv files\n",
    "school_data = pd.read_csv(school_data_to_load)\n",
    "student_data = pd.read_csv(student_data_to_load)\n",
    "\n",
    "# Combine the datasets\n",
    "full_school_data_df = pd.merge(student_data, school_data, how=\"left\", on=[\"school_name\", \"school_name\"])\n",
    "full_school_data_df.head()\n"
   ]
  },
  {
   "cell_type": "markdown",
   "metadata": {},
   "source": [
    "# District Summary:"
   ]
  },
  {
   "cell_type": "code",
   "execution_count": 40,
   "metadata": {
    "scrolled": true
   },
   "outputs": [
    {
     "name": "stdout",
     "output_type": "stream",
     "text": [
      "15\n"
     ]
    }
   ],
   "source": [
    "# Total number of unique schools:\n",
    "school_count = len(full_school_data_df['school_name'].unique())\n",
    "print(school_count)"
   ]
  },
  {
   "cell_type": "code",
   "execution_count": 41,
   "metadata": {},
   "outputs": [
    {
     "name": "stdout",
     "output_type": "stream",
     "text": [
      "39170\n"
     ]
    }
   ],
   "source": [
    "# Total number of students:\n",
    "# note: students may share same first/last name, so unique is not used here\n",
    "student_count = full_school_data_df['student_name'].count()\n",
    "print(student_count)"
   ]
  },
  {
   "cell_type": "code",
   "execution_count": 42,
   "metadata": {},
   "outputs": [
    {
     "name": "stdout",
     "output_type": "stream",
     "text": [
      "24649428\n"
     ]
    }
   ],
   "source": [
    "# Total budget:\n",
    "# source function [1]  https://pandas.pydata.org/docs/reference/api/pandas.DataFrame.pivot.html\n",
    "budget_summ_df = full_school_data_df.pivot_table(index= 'school_name', values= 'budget')\n",
    "total_budget = budget_summ_df['budget'].sum()\n",
    "print(total_budget)"
   ]
  },
  {
   "cell_type": "code",
   "execution_count": 43,
   "metadata": {},
   "outputs": [
    {
     "name": "stdout",
     "output_type": "stream",
     "text": [
      "78.98537145774827\n"
     ]
    }
   ],
   "source": [
    "# Average math score (mean)\n",
    "student_summ_df = full_school_data_df.pivot_table(index= 'Student ID')\n",
    "avg_math_score = student_summ_df['math_score'].mean()\n",
    "print(avg_math_score)"
   ]
  },
  {
   "cell_type": "code",
   "execution_count": 44,
   "metadata": {},
   "outputs": [
    {
     "name": "stdout",
     "output_type": "stream",
     "text": [
      "81.87784018381414\n"
     ]
    }
   ],
   "source": [
    "# Average readimg score (mean)\n",
    "student_summ_df = full_school_data_df.pivot_table(index= 'Student ID')\n",
    "avg_reading_score = student_summ_df['reading_score'].mean()\n",
    "print(avg_reading_score)"
   ]
  },
  {
   "cell_type": "code",
   "execution_count": 45,
   "metadata": {},
   "outputs": [
    {
     "name": "stdout",
     "output_type": "stream",
     "text": [
      "29370 students passed math.\n",
      "74.9808526933878% students passed math.\n"
     ]
    }
   ],
   "source": [
    "# Percent passing math scores\n",
    "passing_math_count = full_school_data_df[(full_school_data_df['math_score'] >= 70)].count()['student_name']\n",
    "print(str(passing_math_count) + ' students passed math.')\n",
    "\n",
    "percent_passing_math = passing_math_count/float(student_count)*100\n",
    "print(str(percent_passing_math) + '% students passed math.')"
   ]
  },
  {
   "cell_type": "code",
   "execution_count": 46,
   "metadata": {},
   "outputs": [
    {
     "name": "stdout",
     "output_type": "stream",
     "text": [
      "33610 students passed reading.\n",
      "85.80546336482001% students passed reading.\n"
     ]
    }
   ],
   "source": [
    "# Percent passing reading scores\n",
    "passing_reading_count = full_school_data_df[(full_school_data_df['reading_score'] >= 70)].count()['student_name']\n",
    "print(str(passing_reading_count) + ' students passed reading.')\n",
    "\n",
    "percent_passing_reading = passing_reading_count/float(student_count)*100\n",
    "print(str(percent_passing_reading) + '% students passed reading.')"
   ]
  },
  {
   "cell_type": "code",
   "execution_count": 47,
   "metadata": {},
   "outputs": [
    {
     "name": "stdout",
     "output_type": "stream",
     "text": [
      "25528 students pass both math and reading.\n",
      "65.17232575950983% students passed both math and reading.\n"
     ]
    }
   ],
   "source": [
    "# Calculate overall passing percent, combine both math and reading here:\n",
    "passing_both_count = full_school_data_df[(full_school_data_df['reading_score'] >= 70) & \n",
    "                                         (full_school_data_df['math_score'] >= 70)\n",
    "                                                            ].count()['student_name']\n",
    "print(str(passing_both_count) + ' students pass both math and reading.')\n",
    "\n",
    "overall_passing_rate = passing_both_count / float(student_count)*100\n",
    "print(str(overall_passing_rate) + '% students passed both math and reading.')"
   ]
  },
  {
   "cell_type": "code",
   "execution_count": 48,
   "metadata": {},
   "outputs": [
    {
     "data": {
      "text/html": [
       "<div>\n",
       "<style scoped>\n",
       "    .dataframe tbody tr th:only-of-type {\n",
       "        vertical-align: middle;\n",
       "    }\n",
       "\n",
       "    .dataframe tbody tr th {\n",
       "        vertical-align: top;\n",
       "    }\n",
       "\n",
       "    .dataframe thead th {\n",
       "        text-align: right;\n",
       "    }\n",
       "</style>\n",
       "<table border=\"1\" class=\"dataframe\">\n",
       "  <thead>\n",
       "    <tr style=\"text-align: right;\">\n",
       "      <th></th>\n",
       "      <th>Total Schools</th>\n",
       "      <th>Total Students</th>\n",
       "      <th>Total Budget</th>\n",
       "      <th>Average Math Score</th>\n",
       "      <th>Average Reading Score</th>\n",
       "      <th>% Passing Math</th>\n",
       "      <th>% Passing Reading</th>\n",
       "      <th>Overall Passing</th>\n",
       "    </tr>\n",
       "  </thead>\n",
       "  <tbody>\n",
       "    <tr>\n",
       "      <th>0</th>\n",
       "      <td>15</td>\n",
       "      <td>39,170</td>\n",
       "      <td>$24,649,428.00</td>\n",
       "      <td>78.985371</td>\n",
       "      <td>81.87784</td>\n",
       "      <td>74.980853</td>\n",
       "      <td>85.805463</td>\n",
       "      <td>65.172326</td>\n",
       "    </tr>\n",
       "  </tbody>\n",
       "</table>\n",
       "</div>"
      ],
      "text/plain": [
       "   Total Schools Total Students    Total Budget  Average Math Score  \\\n",
       "0             15         39,170  $24,649,428.00           78.985371   \n",
       "\n",
       "   Average Reading Score  % Passing Math  % Passing Reading  Overall Passing  \n",
       "0               81.87784       74.980853          85.805463        65.172326  "
      ]
     },
     "execution_count": 48,
     "metadata": {},
     "output_type": "execute_result"
    }
   ],
   "source": [
    "# Create a high-level snapshot of these summary statistics as a DataFrame.\n",
    "# source [0]: edX Boot Camps LLC. Module 4 Challenge.\n",
    "summary_dict = {'Total Schools': school_count, 'Total Students': student_count, 'Total Budget': total_budget, \n",
    "                'Average Math Score': avg_math_score, 'Average Reading Score': avg_reading_score,\n",
    "                '% Passing Math': percent_passing_math, '% Passing Reading': percent_passing_reading, \n",
    "                'Overall Passing': overall_passing_rate}\n",
    "\n",
    "district_summ_df = pd.DataFrame([summary_dict])\n",
    "\n",
    "district_summ_df[\"Total Students\"] = district_summ_df[\"Total Students\"].map(\"{:,}\".format)\n",
    "district_summ_df[\"Total Budget\"] = district_summ_df[\"Total Budget\"].map(\"${:,.2f}\".format)\n",
    "\n",
    "# Display the DataFrame\n",
    "district_summ_df\n",
    "# print(district_summ_df)"
   ]
  },
  {
   "cell_type": "markdown",
   "metadata": {},
   "source": [
    "# School Summary:"
   ]
  },
  {
   "cell_type": "code",
   "execution_count": 87,
   "metadata": {},
   "outputs": [
    {
     "data": {
      "text/plain": [
       "school_name\n",
       "Huang High School        District\n",
       "Figueroa High School     District\n",
       "Shelton High School       Charter\n",
       "Hernandez High School    District\n",
       "Griffin High School       Charter\n",
       "Wilson High School        Charter\n",
       "Cabrera High School       Charter\n",
       "Bailey High School       District\n",
       "Holden High School        Charter\n",
       "Pena High School          Charter\n",
       "Wright High School        Charter\n",
       "Rodriguez High School    District\n",
       "Johnson High School      District\n",
       "Ford High School         District\n",
       "Thomas High School        Charter\n",
       "Name: type, dtype: object"
      ]
     },
     "execution_count": 87,
     "metadata": {},
     "output_type": "execute_result"
    }
   ],
   "source": [
    "school_types_df = school_data.set_index(['school_name'])['type']\n",
    "school_types_df"
   ]
  },
  {
   "cell_type": "code",
   "execution_count": 88,
   "metadata": {
    "scrolled": true
   },
   "outputs": [
    {
     "data": {
      "text/plain": [
       "school_name\n",
       "Bailey High School       4976\n",
       "Cabrera High School      1858\n",
       "Figueroa High School     2949\n",
       "Ford High School         2739\n",
       "Griffin High School      1468\n",
       "Hernandez High School    4635\n",
       "Holden High School        427\n",
       "Huang High School        2917\n",
       "Johnson High School      4761\n",
       "Pena High School          962\n",
       "Rodriguez High School    3999\n",
       "Shelton High School      1761\n",
       "Thomas High School       1635\n",
       "Wilson High School       2283\n",
       "Wright High School       1800\n",
       "Name: Student ID, dtype: int64"
      ]
     },
     "execution_count": 88,
     "metadata": {},
     "output_type": "execute_result"
    }
   ],
   "source": [
    "per_school_stu_counts = full_school_data_df.groupby(['school_name']).count()['Student ID']\n",
    "per_school_stu_counts"
   ]
  },
  {
   "cell_type": "code",
   "execution_count": 137,
   "metadata": {},
   "outputs": [
    {
     "name": "stdout",
     "output_type": "stream",
     "text": [
      "school_name\n",
      "Bailey High School       3124928.0\n",
      "Cabrera High School      1081356.0\n",
      "Figueroa High School     1884411.0\n",
      "Ford High School         1763916.0\n",
      "Griffin High School       917500.0\n",
      "Hernandez High School    3022020.0\n",
      "Holden High School        248087.0\n",
      "Huang High School        1910635.0\n",
      "Johnson High School      3094650.0\n",
      "Pena High School          585858.0\n",
      "Rodriguez High School    2547363.0\n",
      "Shelton High School      1056600.0\n",
      "Thomas High School       1043130.0\n",
      "Wilson High School       1319574.0\n",
      "Wright High School       1049400.0\n",
      "Name: budget, dtype: float64\n",
      "<class 'pandas.core.series.Series'>\n",
      "school_name\n",
      "Bailey High School       628.0\n",
      "Cabrera High School      582.0\n",
      "Figueroa High School     639.0\n",
      "Ford High School         644.0\n",
      "Griffin High School      625.0\n",
      "Hernandez High School    652.0\n",
      "Holden High School       581.0\n",
      "Huang High School        655.0\n",
      "Johnson High School      650.0\n",
      "Pena High School         609.0\n",
      "Rodriguez High School    637.0\n",
      "Shelton High School      600.0\n",
      "Thomas High School       638.0\n",
      "Wilson High School       578.0\n",
      "Wright High School       583.0\n",
      "dtype: float64\n",
      "<class 'pandas.core.series.Series'>\n"
     ]
    }
   ],
   "source": [
    "per_school_budget = full_school_data_df.groupby(['school_name']).mean()['budget']\n",
    "print(per_school_budget)\n",
    "print(type(per_school_budget))\n",
    "\n",
    "budget_per_student = per_school_budget/per_school_counts\n",
    "print(budget_per_student)\n",
    "print(type(budget_per_student))"
   ]
  },
  {
   "cell_type": "code",
   "execution_count": 138,
   "metadata": {},
   "outputs": [
    {
     "name": "stdout",
     "output_type": "stream",
     "text": [
      "school_name\n",
      "Bailey High School       77.048432\n",
      "Cabrera High School      83.061895\n",
      "Figueroa High School     76.711767\n",
      "Ford High School         77.102592\n",
      "Griffin High School      83.351499\n",
      "Hernandez High School    77.289752\n",
      "Holden High School       83.803279\n",
      "Huang High School        76.629414\n",
      "Johnson High School      77.072464\n",
      "Pena High School         83.839917\n",
      "Rodriguez High School    76.842711\n",
      "Shelton High School      83.359455\n",
      "Thomas High School       83.418349\n",
      "Wilson High School       83.274201\n",
      "Wright High School       83.682222\n",
      "Name: math_score, dtype: float64\n",
      "school_name\n",
      "Bailey High School       81.033963\n",
      "Cabrera High School      83.975780\n",
      "Figueroa High School     81.158020\n",
      "Ford High School         80.746258\n",
      "Griffin High School      83.816757\n",
      "Hernandez High School    80.934412\n",
      "Holden High School       83.814988\n",
      "Huang High School        81.182722\n",
      "Johnson High School      80.966394\n",
      "Pena High School         84.044699\n",
      "Rodriguez High School    80.744686\n",
      "Shelton High School      83.725724\n",
      "Thomas High School       83.848930\n",
      "Wilson High School       83.989488\n",
      "Wright High School       83.955000\n",
      "Name: reading_score, dtype: float64\n"
     ]
    }
   ],
   "source": [
    "per_school_math_scores = full_school_data_df.groupby(['school_name']).mean()['math_score']\n",
    "print(per_school_math_scores)\n",
    "per_school_reading_scores = full_school_data_df.groupby(['school_name']).mean()['reading_score']\n",
    "print(per_school_reading_scores)"
   ]
  },
  {
   "cell_type": "code",
   "execution_count": 139,
   "metadata": {
    "scrolled": true
   },
   "outputs": [
    {
     "name": "stdout",
     "output_type": "stream",
     "text": [
      "school_name\n",
      "Bailey High School       66.680064\n",
      "Cabrera High School      94.133477\n",
      "Figueroa High School     65.988471\n",
      "Ford High School         68.309602\n",
      "Griffin High School      93.392371\n",
      "Hernandez High School    66.752967\n",
      "Holden High School       92.505855\n",
      "Huang High School        65.683922\n",
      "Johnson High School      66.057551\n",
      "Pena High School         94.594595\n",
      "Rodriguez High School    66.366592\n",
      "Shelton High School      93.867121\n",
      "Thomas High School       93.272171\n",
      "Wilson High School       93.867718\n",
      "Wright High School       93.333333\n",
      "Name: Student ID, dtype: float64\n",
      "school_name\n",
      "Bailey High School       81.933280\n",
      "Cabrera High School      97.039828\n",
      "Figueroa High School     80.739234\n",
      "Ford High School         79.299014\n",
      "Griffin High School      97.138965\n",
      "Hernandez High School    80.862999\n",
      "Holden High School       96.252927\n",
      "Huang High School        81.316421\n",
      "Johnson High School      81.222432\n",
      "Pena High School         95.945946\n",
      "Rodriguez High School    80.220055\n",
      "Shelton High School      95.854628\n",
      "Thomas High School       97.308869\n",
      "Wilson High School       96.539641\n",
      "Wright High School       96.611111\n",
      "Name: Student ID, dtype: float64\n"
     ]
    }
   ],
   "source": [
    "#TODO: calc percent passing math per school\n",
    "# First, get the number of students per school with math scores of 70 or higher\n",
    "# print(full_school_data_df)\n",
    "students_passing_math_df = full_school_data_df.loc[(full_school_data_df['math_score'] >= 70)]\n",
    "\n",
    "students_passing_math_df = (students_passing_math_df.groupby('school_name').count()['Student ID'] / full_school_data_df.groupby(['school_name']).count()['Student ID'])*100\n",
    "print(students_passing_math_df)\n",
    "\n",
    "\n",
    "\n",
    "#TODO: calc percent passing reading per school.\n",
    "students_passing_reading_df = full_school_data_df.loc[(full_school_data_df['reading_score'] >= 70)]\n",
    "students_passing_reading_df = (students_passing_reading_df.groupby('school_name').count()['Student ID'] / full_school_data_df.groupby(['school_name']).count()['Student ID'])*100\n",
    "print(students_passing_reading_df)"
   ]
  },
  {
   "cell_type": "code",
   "execution_count": 140,
   "metadata": {},
   "outputs": [
    {
     "data": {
      "text/plain": [
       "school_name\n",
       "Bailey High School       54.642283\n",
       "Cabrera High School      91.334769\n",
       "Figueroa High School     53.204476\n",
       "Ford High School         54.289887\n",
       "Griffin High School      90.599455\n",
       "Hernandez High School    53.527508\n",
       "Holden High School       89.227166\n",
       "Huang High School        53.513884\n",
       "Johnson High School      53.539172\n",
       "Pena High School         90.540541\n",
       "Rodriguez High School    52.988247\n",
       "Shelton High School      89.892107\n",
       "Thomas High School       90.948012\n",
       "Wilson High School       90.582567\n",
       "Wright High School       90.333333\n",
       "Name: Student ID, dtype: float64"
      ]
     },
     "execution_count": 140,
     "metadata": {},
     "output_type": "execute_result"
    }
   ],
   "source": [
    "students_passing_both_df = full_school_data_df.loc[(full_school_data_df['math_score'] >= 70) & (full_school_data_df['reading_score'] >= 70), :]\n",
    "students_passing_both_df = (students_passing_both_df.groupby('school_name').count()['Student ID'] / full_school_data_df.groupby(['school_name']).count()['Student ID'])*100\n",
    "students_passing_both_df\n"
   ]
  },
  {
   "cell_type": "code",
   "execution_count": 145,
   "metadata": {},
   "outputs": [
    {
     "name": "stdout",
     "output_type": "stream",
     "text": [
      "                           type  Student ID     budget      0  math_score  \\\n",
      "school_name                                                                 \n",
      "Huang High School      District        2917  1910635.0  655.0   76.629414   \n",
      "Figueroa High School   District        2949  1884411.0  639.0   76.711767   \n",
      "Shelton High School     Charter        1761  1056600.0  600.0   83.359455   \n",
      "Hernandez High School  District        4635  3022020.0  652.0   77.289752   \n",
      "Griffin High School     Charter        1468   917500.0  625.0   83.351499   \n",
      "Wilson High School      Charter        2283  1319574.0  578.0   83.274201   \n",
      "Cabrera High School     Charter        1858  1081356.0  582.0   83.061895   \n",
      "Bailey High School     District        4976  3124928.0  628.0   77.048432   \n",
      "Holden High School      Charter         427   248087.0  581.0   83.803279   \n",
      "Pena High School        Charter         962   585858.0  609.0   83.839917   \n",
      "Wright High School      Charter        1800  1049400.0  583.0   83.682222   \n",
      "Rodriguez High School  District        3999  2547363.0  637.0   76.842711   \n",
      "Johnson High School    District        4761  3094650.0  650.0   77.072464   \n",
      "Ford High School       District        2739  1763916.0  644.0   77.102592   \n",
      "Thomas High School      Charter        1635  1043130.0  638.0   83.418349   \n",
      "\n",
      "                       reading_score  Student ID  Student ID  Student ID  \n",
      "school_name                                                               \n",
      "Huang High School          81.182722   65.683922   81.316421   53.513884  \n",
      "Figueroa High School       81.158020   65.988471   80.739234   53.204476  \n",
      "Shelton High School        83.725724   93.867121   95.854628   89.892107  \n",
      "Hernandez High School      80.934412   66.752967   80.862999   53.527508  \n",
      "Griffin High School        83.816757   93.392371   97.138965   90.599455  \n",
      "Wilson High School         83.989488   93.867718   96.539641   90.582567  \n",
      "Cabrera High School        83.975780   94.133477   97.039828   91.334769  \n",
      "Bailey High School         81.033963   66.680064   81.933280   54.642283  \n",
      "Holden High School         83.814988   92.505855   96.252927   89.227166  \n",
      "Pena High School           84.044699   94.594595   95.945946   90.540541  \n",
      "Wright High School         83.955000   93.333333   96.611111   90.333333  \n",
      "Rodriguez High School      80.744686   66.366592   80.220055   52.988247  \n",
      "Johnson High School        80.966394   66.057551   81.222432   53.539172  \n",
      "Ford High School           80.746258   68.309602   79.299014   54.289887  \n",
      "Thomas High School         83.848930   93.272171   97.308869   90.948012  \n",
      "<class 'pandas.core.frame.DataFrame'>\n"
     ]
    }
   ],
   "source": [
    "# Display the School Summary DataFrame. Try using pandas merge method:\n",
    "per_school_summary = pd.concat([school_types_df, per_school_stu_counts, per_school_budget, budget_per_student,\n",
    "                                per_school_math, per_school_reading, students_passing_math_df, students_passing_reading_df,\n",
    "                               students_passing_both_df], axis = 1)\n",
    "print(per_school_summary)\n",
    "print(type(per_school_summary))\n"
   ]
  },
  {
   "cell_type": "code",
   "execution_count": null,
   "metadata": {},
   "outputs": [],
   "source": [
    "# rename columns with .rename method:\n",
    "\n",
    "\n",
    "\n",
    "# format column values using regex:\n",
    "\n",
    "\n"
   ]
  },
  {
   "cell_type": "code",
   "execution_count": null,
   "metadata": {},
   "outputs": [],
   "source": []
  }
 ],
 "metadata": {
  "anaconda-cloud": {},
  "kernel_info": {
   "name": "python3"
  },
  "kernelspec": {
   "display_name": "Python 3 (ipykernel)",
   "language": "python",
   "name": "python3"
  },
  "language_info": {
   "codemirror_mode": {
    "name": "ipython",
    "version": 3
   },
   "file_extension": ".py",
   "mimetype": "text/x-python",
   "name": "python",
   "nbconvert_exporter": "python",
   "pygments_lexer": "ipython3",
   "version": "3.9.13"
  },
  "latex_envs": {
   "LaTeX_envs_menu_present": true,
   "autoclose": false,
   "autocomplete": true,
   "bibliofile": "biblio.bib",
   "cite_by": "apalike",
   "current_citInitial": 1,
   "eqLabelWithNumbers": true,
   "eqNumInitial": 1,
   "hotkeys": {
    "equation": "Ctrl-E",
    "itemize": "Ctrl-I"
   },
   "labels_anchors": false,
   "latex_user_defs": false,
   "report_style_numbering": false,
   "user_envs_cfg": false
  },
  "nteract": {
   "version": "0.8.4"
  },
  "vscode": {
   "interpreter": {
    "hash": "5384d77d82de63fd599f73e77f9ec786e7719288bf80a29ec0288c670ac3cf32"
   }
  }
 },
 "nbformat": 4,
 "nbformat_minor": 4
}
